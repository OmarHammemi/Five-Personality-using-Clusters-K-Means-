{
 "cells": [
  {
   "cell_type": "markdown",
   "id": "d36fae2f",
   "metadata": {
    "papermill": {
     "duration": 0.006698,
     "end_time": "2022-02-09T10:16:26.959409",
     "exception": false,
     "start_time": "2022-02-09T10:16:26.952711",
     "status": "completed"
    },
    "tags": []
   },
   "source": [
    "# Test Your Personality Type with bulding Your Own DataBase\n"
   ]
  },
  {
   "cell_type": "code",
   "execution_count": 1,
   "id": "a8ff9f20",
   "metadata": {
    "execution": {
     "iopub.execute_input": "2022-02-09T10:16:26.987892Z",
     "iopub.status.busy": "2022-02-09T10:16:26.986243Z",
     "iopub.status.idle": "2022-02-09T10:16:26.997297Z",
     "shell.execute_reply": "2022-02-09T10:16:26.997931Z"
    },
    "papermill": {
     "duration": 0.030293,
     "end_time": "2022-02-09T10:16:26.998242",
     "exception": false,
     "start_time": "2022-02-09T10:16:26.967949",
     "status": "completed"
    },
    "tags": []
   },
   "outputs": [],
   "source": [
    "import pandas as pd\n",
    "import numpy as np"
   ]
  },
  {
   "cell_type": "code",
   "execution_count": 2,
   "id": "594cdbb2",
   "metadata": {
    "execution": {
     "iopub.execute_input": "2022-02-09T10:16:27.022100Z",
     "iopub.status.busy": "2022-02-09T10:16:27.021208Z",
     "iopub.status.idle": "2022-02-09T10:16:27.026906Z",
     "shell.execute_reply": "2022-02-09T10:16:27.027417Z",
     "shell.execute_reply.started": "2022-02-09T09:24:04.386847Z"
    },
    "papermill": {
     "duration": 0.02099,
     "end_time": "2022-02-09T10:16:27.027546",
     "exception": false,
     "start_time": "2022-02-09T10:16:27.006556",
     "status": "completed"
    },
    "tags": []
   },
   "outputs": [],
   "source": [
    "# Groups and Questions\n",
    "ext_questions = {'EXT1' : 'I am the life of the party',\n",
    "                 'EXT2' : 'I dont talk a lot',\n",
    "                 'EXT3' : 'I feel comfortable around people',\n",
    "                 'EXT4' : 'I keep in the background',\n",
    "                 'EXT5' : 'I start conversations',\n",
    "                 'EXT6' : 'I have little to say',\n",
    "                 'EXT7' : 'I talk to a lot of different people at parties',\n",
    "                 'EXT8' : 'I dont like to draw attention to myself',\n",
    "                 'EXT9' : 'I dont mind being the center of attention',\n",
    "                 'EXT10': 'I am quiet around strangers'}\n",
    "\n",
    "est_questions = {'EST1' : 'I get stressed out easily',\n",
    "                 'EST2' : 'I am relaxed most of the time',\n",
    "                 'EST3' : 'I worry about things',\n",
    "                 'EST4' : 'I seldom feel blue',\n",
    "                 'EST5' : 'I am easily disturbed',\n",
    "                 'EST6' : 'I get upset easily',\n",
    "                 'EST7' : 'I change my mood a lot',\n",
    "                 'EST8' : 'I have frequent mood swings',\n",
    "                 'EST9' : 'I get irritated easily',\n",
    "                 'EST10': 'I often feel blue'}\n",
    "\n",
    "agr_questions = {'AGR1' : 'I feel little concern for others',\n",
    "                 'AGR2' : 'I am interested in people',\n",
    "                 'AGR3' : 'I insult people',\n",
    "                 'AGR4' : 'I sympathize with others feelings',\n",
    "                 'AGR5' : 'I am not interested in other peoples problems',\n",
    "                 'AGR6' : 'I have a soft heart',\n",
    "                 'AGR7' : 'I am not really interested in others',\n",
    "                 'AGR8' : 'I take time out for others',\n",
    "                 'AGR9' : 'I feel others emotions',\n",
    "                 'AGR10': 'I make people feel at ease'}\n",
    "\n",
    "csn_questions = {'CSN1' : 'I am always prepared',\n",
    "                 'CSN2' : 'I leave my belongings around',\n",
    "                 'CSN3' : 'I pay attention to details',\n",
    "                 'CSN4' : 'I make a mess of things',\n",
    "                 'CSN5' : 'I get chores done right away',\n",
    "                 'CSN6' : 'I often forget to put things back in their proper place',\n",
    "                 'CSN7' : 'I like order',\n",
    "                 'CSN8' : 'I shirk my duties',\n",
    "                 'CSN9' : 'I follow a schedule',\n",
    "                 'CSN10' : 'I am exacting in my work'}\n",
    "\n",
    "opn_questions = {'OPN1' : 'I have a rich vocabulary',\n",
    "                 'OPN2' : 'I have difficulty understanding abstract ideas',\n",
    "                 'OPN3' : 'I have a vivid imagination',\n",
    "                 'OPN4' : 'I am not interested in abstract ideas',\n",
    "                 'OPN5' : 'I have excellent ideas',\n",
    "                 'OPN6' : 'I do not have a good imagination',\n",
    "                 'OPN7' : 'I am quick to understand things',\n",
    "                 'OPN8' : 'I use difficult words',\n",
    "                 'OPN9' : 'I spend time reflecting on things',\n",
    "                 'OPN10': 'I am full of ideas'}"
   ]
  },
  {
   "cell_type": "markdown",
   "id": "86fad7cd",
   "metadata": {
    "papermill": {
     "duration": 0.006809,
     "end_time": "2022-02-09T10:16:27.040944",
     "exception": false,
     "start_time": "2022-02-09T10:16:27.034135",
     "status": "completed"
    },
    "tags": []
   },
   "source": [
    "# Answers :\n",
    "* 1 :  Totally disagree\n",
    "* 2 : Disagree\n",
    "* 3 : Null\n",
    "* 4 : Agree\n",
    "* 5 : Tatally agree"
   ]
  },
  {
   "cell_type": "markdown",
   "id": "96681cd1",
   "metadata": {
    "papermill": {
     "duration": 0.007288,
     "end_time": "2022-02-09T10:16:27.055679",
     "exception": false,
     "start_time": "2022-02-09T10:16:27.048391",
     "status": "completed"
    },
    "tags": []
   },
   "source": [
    "# building your Own DataBase"
   ]
  },
  {
   "cell_type": "code",
   "execution_count": 3,
   "id": "6fb42e62",
   "metadata": {
    "execution": {
     "iopub.execute_input": "2022-02-09T10:16:27.084682Z",
     "iopub.status.busy": "2022-02-09T10:16:27.083895Z",
     "iopub.status.idle": "2022-02-09T10:16:27.106057Z",
     "shell.execute_reply": "2022-02-09T10:16:27.106488Z",
     "shell.execute_reply.started": "2022-02-09T09:43:01.019599Z"
    },
    "papermill": {
     "duration": 0.041155,
     "end_time": "2022-02-09T10:16:27.106625",
     "exception": false,
     "start_time": "2022-02-09T10:16:27.065470",
     "status": "completed"
    },
    "tags": []
   },
   "outputs": [
    {
     "data": {
      "text/html": [
       "<div>\n",
       "<style scoped>\n",
       "    .dataframe tbody tr th:only-of-type {\n",
       "        vertical-align: middle;\n",
       "    }\n",
       "\n",
       "    .dataframe tbody tr th {\n",
       "        vertical-align: top;\n",
       "    }\n",
       "\n",
       "    .dataframe thead th {\n",
       "        text-align: right;\n",
       "    }\n",
       "</style>\n",
       "<table border=\"1\" class=\"dataframe\">\n",
       "  <thead>\n",
       "    <tr style=\"text-align: right;\">\n",
       "      <th></th>\n",
       "      <th>EXT1</th>\n",
       "      <th>EXT2</th>\n",
       "      <th>EXT3</th>\n",
       "      <th>EXT4</th>\n",
       "      <th>EXT5</th>\n",
       "      <th>EXT6</th>\n",
       "      <th>EXT7</th>\n",
       "      <th>EXT8</th>\n",
       "      <th>EXT9</th>\n",
       "      <th>EXT10</th>\n",
       "      <th>...</th>\n",
       "      <th>OPN1</th>\n",
       "      <th>OPN2</th>\n",
       "      <th>OPN3</th>\n",
       "      <th>OPN4</th>\n",
       "      <th>OPN5</th>\n",
       "      <th>OPN6</th>\n",
       "      <th>OPN7</th>\n",
       "      <th>OPN8</th>\n",
       "      <th>OPN9</th>\n",
       "      <th>OPN10</th>\n",
       "    </tr>\n",
       "  </thead>\n",
       "  <tbody>\n",
       "    <tr>\n",
       "      <th>0</th>\n",
       "      <td>3</td>\n",
       "      <td>2</td>\n",
       "      <td>3</td>\n",
       "      <td>2</td>\n",
       "      <td>4</td>\n",
       "      <td>3</td>\n",
       "      <td>4</td>\n",
       "      <td>4</td>\n",
       "      <td>3</td>\n",
       "      <td>3</td>\n",
       "      <td>...</td>\n",
       "      <td>2</td>\n",
       "      <td>2</td>\n",
       "      <td>5</td>\n",
       "      <td>2</td>\n",
       "      <td>4</td>\n",
       "      <td>1</td>\n",
       "      <td>4</td>\n",
       "      <td>1</td>\n",
       "      <td>3</td>\n",
       "      <td>4</td>\n",
       "    </tr>\n",
       "  </tbody>\n",
       "</table>\n",
       "<p>1 rows × 50 columns</p>\n",
       "</div>"
      ],
      "text/plain": [
       "   EXT1  EXT2  EXT3  EXT4  EXT5  EXT6  EXT7  EXT8  EXT9  EXT10  ...  OPN1  \\\n",
       "0     3     2     3     2     4     3     4     4     3      3  ...     2   \n",
       "\n",
       "   OPN2  OPN3  OPN4  OPN5  OPN6  OPN7  OPN8  OPN9  OPN10  \n",
       "0     2     5     2     4     1     4     1     3      4  \n",
       "\n",
       "[1 rows x 50 columns]"
      ]
     },
     "execution_count": 3,
     "metadata": {},
     "output_type": "execute_result"
    }
   ],
   "source": [
    "d={'EXT1':[3],'EXT2':[2],'EXT3':[3],'EXT4':[2],'EXT5':[4],'EXT6':[3],'EXT7':[4],'EXT8':[4],'EXT9':[3],'EXT10':[3],\n",
    "   'EST1':[3],'EST2':[2],'EST3':[4],'EST4':[3],'EST5':[2],'EST6':[3],'EST7':[2],'EST8':[2],'EST9':[4],'EST10':[2],\n",
    "   'AGR1':[4],'AGR2':[1],'AGR3':[1],'AGR4':[4],'AGR5':[2],'AGR6':[4],'AGR7':[3],'AGR8':[1],'AGR9':[5],'AGR10':[4],\n",
    "   'CSN1':[3],'CSN2':[4],'CSN3':[4],'CSN4':[3],'CSN5':[2],'CSN6':[4],'CSN7':[1],'CSN8':[2],'CSN9':[4],'CSN10':[3],\n",
    "   'OPN1':[2],'OPN2':[2],'OPN3':[5],'OPN4':[2],'OPN5':[4],'OPN6':[1],'OPN7':[4],'OPN8':[1],'OPN9':[3],'OPN10':[4]}\n",
    "Personal_review=pd.DataFrame(d)\n",
    "Personal_review"
   ]
  },
  {
   "cell_type": "code",
   "execution_count": null,
   "id": "da79474b",
   "metadata": {
    "papermill": {
     "duration": 0.004983,
     "end_time": "2022-02-09T10:16:27.116990",
     "exception": false,
     "start_time": "2022-02-09T10:16:27.112007",
     "status": "completed"
    },
    "tags": []
   },
   "outputs": [],
   "source": []
  }
 ],
 "metadata": {
  "kernelspec": {
   "display_name": "Python 3",
   "language": "python",
   "name": "python3"
  },
  "language_info": {
   "codemirror_mode": {
    "name": "ipython",
    "version": 3
   },
   "file_extension": ".py",
   "mimetype": "text/x-python",
   "name": "python",
   "nbconvert_exporter": "python",
   "pygments_lexer": "ipython3",
   "version": "3.7.12"
  },
  "papermill": {
   "default_parameters": {},
   "duration": 8.643501,
   "end_time": "2022-02-09T10:16:27.631562",
   "environment_variables": {},
   "exception": null,
   "input_path": "__notebook__.ipynb",
   "output_path": "__notebook__.ipynb",
   "parameters": {},
   "start_time": "2022-02-09T10:16:18.988061",
   "version": "2.3.3"
  }
 },
 "nbformat": 4,
 "nbformat_minor": 5
}
